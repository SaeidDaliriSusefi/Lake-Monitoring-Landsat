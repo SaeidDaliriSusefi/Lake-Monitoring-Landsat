{
  "nbformat": 4,
  "nbformat_minor": 0,
  "metadata": {
    "colab": {
      "provenance": [],
      "authorship_tag": "ABX9TyOp6iNvA9djff4ppg576i44",
      "include_colab_link": true
    },
    "kernelspec": {
      "name": "python3",
      "display_name": "Python 3"
    },
    "language_info": {
      "name": "python"
    }
  },
  "cells": [
    {
      "cell_type": "markdown",
      "metadata": {
        "id": "view-in-github",
        "colab_type": "text"
      },
      "source": [
        "<a href=\"https://colab.research.google.com/github/SaeidDaliriSusefi/Lake-Monitoring-Landsat/blob/main/LakeMonitoring.ipynb\" target=\"_parent\"><img src=\"https://colab.research.google.com/assets/colab-badge.svg\" alt=\"Open In Colab\"/></a>"
      ]
    },
    {
      "cell_type": "code",
      "execution_count": 97,
      "metadata": {
        "id": "c5VycaslacX9"
      },
      "outputs": [],
      "source": [
        "! pip install xee -q"
      ]
    },
    {
      "cell_type": "code",
      "source": [
        "import ee\n",
        "import geemap\n",
        "import xarray as xr\n",
        "import xee\n",
        "from sklearn.cluster import KMeans\n",
        "import matplotlib.pyplot as plt\n",
        "import pandas as pd\n",
        "from matplotlib.ticker import FormatStrFormatter\n",
        "import matplotlib.colors as mcolors"
      ],
      "metadata": {
        "id": "QhzznDpNav6P"
      },
      "execution_count": 3,
      "outputs": []
    },
    {
      "cell_type": "code",
      "source": [
        "ee.Authenticate()\n",
        "ee.Initialize(project=\"Your google earth engine project name\", opt_url='https://earthengine-highvolume.googleapis.com')"
      ],
      "metadata": {
        "colab": {
          "base_uri": "https://localhost:8080/",
          "height": 17
        },
        "id": "vcoKcBzBa_DD",
        "outputId": "ea8f771d-d3f8-4a0e-cf2f-a2a41c286cff"
      },
      "execution_count": 4,
      "outputs": [
        {
          "output_type": "display_data",
          "data": {
            "text/plain": [
              "<IPython.core.display.HTML object>"
            ],
            "text/html": [
              "\n",
              "            <style>\n",
              "                .geemap-dark {\n",
              "                    --jp-widgets-color: white;\n",
              "                    --jp-widgets-label-color: white;\n",
              "                    --jp-ui-font-color1: white;\n",
              "                    --jp-layout-color2: #454545;\n",
              "                    background-color: #383838;\n",
              "                }\n",
              "\n",
              "                .geemap-dark .jupyter-button {\n",
              "                    --jp-layout-color3: #383838;\n",
              "                }\n",
              "\n",
              "                .geemap-colab {\n",
              "                    background-color: var(--colab-primary-surface-color, white);\n",
              "                }\n",
              "\n",
              "                .geemap-colab .jupyter-button {\n",
              "                    --jp-layout-color3: var(--colab-primary-surface-color, white);\n",
              "                }\n",
              "            </style>\n",
              "            "
            ]
          },
          "metadata": {}
        }
      ]
    },
    {
      "cell_type": "code",
      "source": [
        "# Select the area of intrest\n",
        "map=geemap.Map(basemap=\"SATELLITE\")\n",
        "map"
      ],
      "metadata": {
        "id": "IYhyVtbYa1SL"
      },
      "execution_count": 97,
      "outputs": []
    },
    {
      "cell_type": "code",
      "source": [
        "roi = map.draw_last_feature.geometry()\n",
        "\n",
        "start_time = '2015-01-01'\n",
        "end_time = '2024-12-31'\n",
        "\n",
        "landsat = ee.ImageCollection(\"LANDSAT/LC08/C02/T1_L2\").filterBounds(roi).filterDate(start_time,end_time)\n",
        "def add_year(img):\n",
        "    date = ee.Date(img.get('system:time_start'))\n",
        "    year = date.get('year')\n",
        "    return img.set('year', year)\n",
        "\n",
        "landsat_with_year = landsat.map(add_year)"
      ],
      "metadata": {
        "colab": {
          "base_uri": "https://localhost:8080/",
          "height": 17
        },
        "id": "WPWS-66HbKgP",
        "outputId": "277385eb-d1e7-4dd8-d02e-18be0e524cca"
      },
      "execution_count": 93,
      "outputs": [
        {
          "output_type": "display_data",
          "data": {
            "text/plain": [
              "<IPython.core.display.HTML object>"
            ],
            "text/html": [
              "\n",
              "            <style>\n",
              "                .geemap-dark {\n",
              "                    --jp-widgets-color: white;\n",
              "                    --jp-widgets-label-color: white;\n",
              "                    --jp-ui-font-color1: white;\n",
              "                    --jp-layout-color2: #454545;\n",
              "                    background-color: #383838;\n",
              "                }\n",
              "\n",
              "                .geemap-dark .jupyter-button {\n",
              "                    --jp-layout-color3: #383838;\n",
              "                }\n",
              "\n",
              "                .geemap-colab {\n",
              "                    background-color: var(--colab-primary-surface-color, white);\n",
              "                }\n",
              "\n",
              "                .geemap-colab .jupyter-button {\n",
              "                    --jp-layout-color3: var(--colab-primary-surface-color, white);\n",
              "                }\n",
              "            </style>\n",
              "            "
            ]
          },
          "metadata": {}
        }
      ]
    },
    {
      "cell_type": "code",
      "source": [
        "years = landsat_with_year.aggregate_array('year').distinct().sort()\n",
        "\n",
        "def yearly_mean(year):\n",
        "    year = ee.Number(year)\n",
        "    filtered = landsat_with_year.filter(ee.Filter.eq('year', year))\n",
        "    mean_image = filtered.mean().set('year', year)\n",
        "    return mean_image\n",
        "\n",
        "yearly_means = ee.ImageCollection(years.map(yearly_mean))"
      ],
      "metadata": {
        "colab": {
          "base_uri": "https://localhost:8080/",
          "height": 17
        },
        "id": "wjzD5uImxpJF",
        "outputId": "ec3b0beb-699a-4439-9785-169ed86fa4d3"
      },
      "execution_count": 94,
      "outputs": [
        {
          "output_type": "display_data",
          "data": {
            "text/plain": [
              "<IPython.core.display.HTML object>"
            ],
            "text/html": [
              "\n",
              "            <style>\n",
              "                .geemap-dark {\n",
              "                    --jp-widgets-color: white;\n",
              "                    --jp-widgets-label-color: white;\n",
              "                    --jp-ui-font-color1: white;\n",
              "                    --jp-layout-color2: #454545;\n",
              "                    background-color: #383838;\n",
              "                }\n",
              "\n",
              "                .geemap-dark .jupyter-button {\n",
              "                    --jp-layout-color3: #383838;\n",
              "                }\n",
              "\n",
              "                .geemap-colab {\n",
              "                    background-color: var(--colab-primary-surface-color, white);\n",
              "                }\n",
              "\n",
              "                .geemap-colab .jupyter-button {\n",
              "                    --jp-layout-color3: var(--colab-primary-surface-color, white);\n",
              "                }\n",
              "            </style>\n",
              "            "
            ]
          },
          "metadata": {}
        }
      ]
    },
    {
      "cell_type": "code",
      "source": [
        "def ndwi(img):\n",
        "     qa = img.select('QA_PIXEL')\n",
        "     cloud = qa.bitwiseAnd(1 << 3).neq(0)\n",
        "     cirrus = qa.bitwiseAnd(1 << 2).neq(0)\n",
        "     shadow = qa.bitwiseAnd(1 << 4).neq(0)\n",
        "     mask = cloud.Or(cirrus).Or(shadow)\n",
        "     bands = img.select('SR.*').multiply(2.75e-05).add(-0.2)\n",
        "     index = img.normalizedDifference(['SR_B3','SR_B5']).rename('ndwi')\n",
        "     return index.copyProperties(img, img.propertyNames())\n",
        "\n",
        "ndwi_yearly = yearly_means.map(ndwi)"
      ],
      "metadata": {
        "colab": {
          "base_uri": "https://localhost:8080/",
          "height": 17
        },
        "id": "N5_z3zXfbS47",
        "outputId": "e3f120f6-c895-4cd1-f8c9-f961f5b17e6b"
      },
      "execution_count": 95,
      "outputs": [
        {
          "output_type": "display_data",
          "data": {
            "text/plain": [
              "<IPython.core.display.HTML object>"
            ],
            "text/html": [
              "\n",
              "            <style>\n",
              "                .geemap-dark {\n",
              "                    --jp-widgets-color: white;\n",
              "                    --jp-widgets-label-color: white;\n",
              "                    --jp-ui-font-color1: white;\n",
              "                    --jp-layout-color2: #454545;\n",
              "                    background-color: #383838;\n",
              "                }\n",
              "\n",
              "                .geemap-dark .jupyter-button {\n",
              "                    --jp-layout-color3: #383838;\n",
              "                }\n",
              "\n",
              "                .geemap-colab {\n",
              "                    background-color: var(--colab-primary-surface-color, white);\n",
              "                }\n",
              "\n",
              "                .geemap-colab .jupyter-button {\n",
              "                    --jp-layout-color3: var(--colab-primary-surface-color, white);\n",
              "                }\n",
              "            </style>\n",
              "            "
            ]
          },
          "metadata": {}
        }
      ]
    },
    {
      "cell_type": "code",
      "source": [
        "years = ndwi_yearly.aggregate_array('year').getInfo()\n",
        "\n",
        "ds = xr.open_dataset(ndwi_yearly, engine='ee', crs='EPSG:4326', scale=0.000269, geometry=roi)\n",
        "\n",
        "new_time = pd.to_datetime([str(y) for y in years]).year\n",
        "ds['time'] = new_time\n",
        "\n",
        "ndwi_annual = ds['ndwi']\n",
        "\n",
        "g = ndwi_annual.plot(\n",
        "    x='lon',\n",
        "    y='lat',\n",
        "    cmap='Blues',\n",
        "    col='time',\n",
        "    col_wrap=5,\n",
        "    robust=True\n",
        ")\n",
        "\n",
        "from matplotlib.ticker import FormatStrFormatter\n",
        "\n",
        "for ax in g.axes.flat:\n",
        "    ax.xaxis.set_major_formatter(FormatStrFormatter('%.2f'))\n",
        "    ax.yaxis.set_major_formatter(FormatStrFormatter('%.2f'))\n",
        "\n",
        "\n",
        "plt.savefig('lake_desiccation.png', dpi=360, bbox_inches='tight')\n"
      ],
      "metadata": {
        "id": "aBHc_DNcyoLf"
      },
      "execution_count": 97,
      "outputs": []
    },
    {
      "cell_type": "code",
      "source": [
        "df = ds.to_dataframe().reset_index()\n",
        "\n",
        "df = df.dropna(subset=['ndwi'])\n",
        "\n",
        "model = KMeans(n_clusters=2, random_state=42)\n",
        "df['clustering'] = model.fit_predict(df[['ndwi']])\n",
        "\n",
        "xarr = df.set_index(['time', 'lat', 'lon']).to_xarray()\n",
        "\n",
        "xarr = xarr.sortby('lon').sortby('lat')\n",
        "\n",
        "\n",
        "lake_pixels_per_year = (xarr.clustering == 1).sum(dim=['lat', 'lon'])\n",
        "\n",
        "lake_area_km2 = lake_pixels_per_year * 900 / 1_000_000  # each pixel = 900 m²\n",
        "lake_area_values = lake_area_km2.values\n",
        "\n",
        "years = xarr['time'].values\n",
        "n_years = len(years)\n",
        "n_cols = 5\n",
        "n_rows = (n_years + n_cols - 1) // n_cols\n",
        "\n",
        "fig, axes = plt.subplots(n_rows, n_cols, figsize=(20, 4 * n_rows), constrained_layout=True)\n",
        "axes = axes.flatten()\n",
        "\n",
        "for i, year in enumerate(years):\n",
        "    data = xarr.clustering.sel(time=year)\n",
        "    im = data.plot(\n",
        "        ax=axes[i],\n",
        "        x='lon',\n",
        "        y='lat',\n",
        "        cmap='Blues',\n",
        "        add_colorbar=False\n",
        "    )\n",
        "    year_str = pd.to_datetime(str(year)).year\n",
        "    area = lake_area_values[i]\n",
        "    axes[i].set_title(f\"{year_str}\")\n",
        "    axes[i].text(\n",
        "        0.05, 0.05,\n",
        "        f\"Lake area: {area:.1f} km²\",\n",
        "        transform=axes[i].transAxes,\n",
        "        fontsize=10,\n",
        "        bbox=dict(facecolor='white', alpha=0.7, boxstyle='round,pad=0.3')\n",
        "    )\n",
        "\n",
        "for j in range(i + 1, len(axes)):\n",
        "    axes[j].axis('off')\n",
        "\n",
        "plt.savefig(\"lake_clustering_with_area_labels.png\", dpi=360, bbox_inches='tight')\n",
        "plt.show()"
      ],
      "metadata": {
        "id": "cxcDlKK40KAV"
      },
      "execution_count": 97,
      "outputs": []
    }
  ]
}